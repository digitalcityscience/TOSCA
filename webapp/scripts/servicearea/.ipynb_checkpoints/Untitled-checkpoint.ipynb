{
 "cells": [
  {
   "cell_type": "code",
   "execution_count": null,
   "metadata": {},
   "outputs": [],
   "source": [
    "from qgis.core import *\n",
    "from qgis.gui import *\n",
    "from qgis.analysis import *\n",
    " \n",
    "from qgis.PyQt.QtCore import *\n",
    "from qgis.PyQt.QtGui import *"
   ]
  },
  {
   "cell_type": "code",
   "execution_count": null,
   "metadata": {},
   "outputs": [],
   "source": [
    "from qgis.utils import iface"
   ]
  },
  {
   "cell_type": "code",
   "execution_count": null,
   "metadata": {},
   "outputs": [],
   "source": []
  },
  {
   "cell_type": "code",
   "execution_count": null,
   "metadata": {},
   "outputs": [],
   "source": [
    "import sys\n",
    "\n",
    "from qgis.core import (\n",
    "     QgsApplication, \n",
    "     QgsProcessingFeedback, \n",
    "     QgsVectorLayer\n",
    ")\n",
    "\n",
    "# See https://gis.stackexchange.com/a/155852/4972 for details about the prefix \n",
    "QgsApplication.setPrefixPath('/usr', True)\n",
    "qgs = QgsApplication([], False)\n",
    "qgs.initQgis()\n",
    "\n",
    "# Append the path where processing plugin can be found\n",
    "sys.path.append('/usr/share/qgis/python/plugins')\n",
    "\n",
    "import processing\n",
    "from processing.core.Processing import Processing"
   ]
  },
  {
   "cell_type": "code",
   "execution_count": null,
   "metadata": {},
   "outputs": [],
   "source": [
    "Processing.initialize()"
   ]
  },
  {
   "cell_type": "code",
   "execution_count": null,
   "metadata": {},
   "outputs": [],
   "source": [
    "from qgis._analysis import QgsNativeAlgorithms\n",
    "QgsApplication.processingRegistry().addProvider(QgsNativeAlgorithms())"
   ]
  },
  {
   "cell_type": "code",
   "execution_count": null,
   "metadata": {},
   "outputs": [],
   "source": []
  },
  {
   "cell_type": "code",
   "execution_count": null,
   "metadata": {},
   "outputs": [],
   "source": [
    "params = { 'DEFAULT_DIRECTION' : 2, 'DEFAULT_SPEED' : 50, 'DIRECTION_FIELD' : '', 'INCLUDE_BOUNDS' : False,\n",
    "         'INPUT' : '/home/warr/Downloads/servicearea/Link Road.shp',\n",
    "         'OUTPUT_LINES' : '/home/warr/Downloads/servicearea/Data/Service_Area_1m.shp', 'SPEED_FIELD' : '',\n",
    "         'START_POINTS' : '/home/warr/Downloads/servicearea/Data/Bank Locations.shp', 'STRATEGY' : 0,\n",
    "         'TOLERANCE' : 0, 'TRAVEL_COST2' : 100, 'VALUE_BACKWARD' : '', 'VALUE_BOTH' : '', 'VALUE_FORWARD' : '' }"
   ]
  },
  {
   "cell_type": "code",
   "execution_count": null,
   "metadata": {},
   "outputs": [],
   "source": [
    "processing.run(\"qgis:serviceareafromlayer\", params)"
   ]
  },
  {
   "cell_type": "code",
   "execution_count": null,
   "metadata": {},
   "outputs": [],
   "source": [
    "params2 = { 'DEFAULT_DIRECTION' : 2, 'DEFAULT_SPEED' : 50, 'DIRECTION_FIELD' : '', 'INCLUDE_BOUNDS' : False,\n",
    "           'INPUT' : '/home/warr/Downloads/servicearea/Link Road.shp',\n",
    "           'OUTPUT_LINES' : '/home/warr/Downloads/servicearea/Data/Service_Area_100m_point.shp',\n",
    "           'SPEED_FIELD' : '', 'START_POINT' : '85.793400,20.297354 [EPSG:4326]', 'STRATEGY' : 0,\n",
    "           'TOLERANCE' : 0, 'TRAVEL_COST2' : 1000, 'VALUE_BACKWARD' : '', 'VALUE_BOTH' : '', 'VALUE_FORWARD' : '' }"
   ]
  },
  {
   "cell_type": "code",
   "execution_count": null,
   "metadata": {},
   "outputs": [],
   "source": [
    "processing.run(\"qgis:serviceareafrompoint\", params2)"
   ]
  },
  {
   "cell_type": "code",
   "execution_count": null,
   "metadata": {},
   "outputs": [],
   "source": []
  },
  {
   "cell_type": "code",
   "execution_count": null,
   "metadata": {},
   "outputs": [],
   "source": [
    "params3 = {'FIELD' : 'Name', \n",
    "           'INPUT': '/media/manjeet/Data2/gist_tools/distancefromPoint/Data/Metro_Stations_Delhi.geojson', \n",
    "           'HUBS' : '/media/manjeet/Data2/gist_tools/distancefromPoint/Data/Landfill_Sites_Delhi.geojson',\n",
    "           'OUTPUT' : '/media/manjeet/Data2/gist_tools/distancefromPoint/output4.geojson',\n",
    "           'UNIT' : 0 }"
   ]
  },
  {
   "cell_type": "code",
   "execution_count": null,
   "metadata": {},
   "outputs": [],
   "source": [
    "{0:'meter',1:'Feet',2:'Miles',3:'Kms',4:'layerUnit'}"
   ]
  },
  {
   "cell_type": "code",
   "execution_count": null,
   "metadata": {},
   "outputs": [],
   "source": [
    "processing.run(\"qgis:distancetonearesthublinetohub\", params3)"
   ]
  },
  {
   "cell_type": "code",
   "execution_count": null,
   "metadata": {},
   "outputs": [],
   "source": [
    "\n",
    "processing.run(\"qgis:distancetonearesthubpoints\", params3)"
   ]
  },
  {
   "cell_type": "code",
   "execution_count": null,
   "metadata": {},
   "outputs": [],
   "source": []
  },
  {
   "cell_type": "code",
   "execution_count": null,
   "metadata": {},
   "outputs": [],
   "source": [
    "vectorLayer.children()"
   ]
  },
  {
   "cell_type": "code",
   "execution_count": null,
   "metadata": {},
   "outputs": [],
   "source": [
    "route"
   ]
  },
  {
   "cell_type": "code",
   "execution_count": null,
   "metadata": {},
   "outputs": [],
   "source": [
    "if not vectorLayer.isValid():\n",
    "    print (\"Layer failed to load!\")"
   ]
  },
  {
   "cell_type": "code",
   "execution_count": null,
   "metadata": {},
   "outputs": [],
   "source": [
    "QgsPointXY(85.819300,20.300174)"
   ]
  },
  {
   "cell_type": "code",
   "execution_count": null,
   "metadata": {},
   "outputs": [],
   "source": [
    "director = QgsVectorLayerDirector(vectorLayer, -1, '', '', '', QgsVectorLayerDirector.DirectionBoth)\n",
    "strategy = QgsNetworkDistanceStrategy()\n",
    "director.addStrategy(strategy)\n",
    "builder = QgsGraphBuilder(vectorLayer.crs())\n",
    "\n",
    "\n",
    "pStart = QgsPointXY(85.819300,20.300174)\n",
    "delta = iface.mapCanvas().getCoordinateTransform().mapUnitsPerPixel() * 1\n",
    "\n",
    "rb = QgsRubberBand(iface.mapCanvas(), True)\n",
    "rb.setColor(Qt.green)\n",
    "rb.addPoint(QgsPointXY(pStart.x() - delta, pStart.y() - delta))\n",
    "rb.addPoint(QgsPointXY(pStart.x() + delta, pStart.y() - delta))\n",
    "rb.addPoint(QgsPointXY(pStart.x() + delta, pStart.y() + delta))\n",
    "rb.addPoint(QgsPointXY(pStart.x() - delta, pStart.y() + delta))\n",
    "\n",
    "tiedPoints = director.makeGraph(builder, [pStart])\n",
    "graph = builder.graph()\n",
    "tStart = tiedPoints[0]\n",
    "\n",
    "idStart = graph.findVertex(tStart)\n",
    "\n",
    "(tree, cost) = QgsGraphAnalyzer.dijkstra(graph, idStart, 0)\n",
    "\n",
    "upperBound = []\n",
    "r = 1500.0\n",
    "i = 0\n",
    "tree.reverse()\n",
    "\n",
    "while i < len(cost):\n",
    "    if cost[i] > r and tree[i] != -1:\n",
    "        outVertexId = graph.edge(tree [i]).toVertex()\n",
    "        if cost[outVertexId] < r:\n",
    "            upperBound.append(i)\n",
    "    i = i + 1"
   ]
  },
  {
   "cell_type": "code",
   "execution_count": null,
   "metadata": {},
   "outputs": [],
   "source": [
    "for i in upperBound:\n",
    "    centerPoint = graph.vertex(i).point()\n",
    "    rb = QgsRubberBand(iface.mapCanvas(), True)\n",
    "    rb.setColor(Qt.red)\n",
    "    rb.addPoint(QgsPointXY(centerPoint.x() - delta, centerPoint.y() - delta))\n",
    "    rb.addPoint(QgsPointXY(centerPoint.x() + delta, centerPoint.y() - delta))\n",
    "    rb.addPoint(QgsPointXY(centerPoint.x() + delta, centerPoint.y() + delta))\n",
    "    rb.addPoint(QgsPointXY(centerPoint.x() - delta, centerPoint.y() + delta))"
   ]
  },
  {
   "cell_type": "code",
   "execution_count": null,
   "metadata": {},
   "outputs": [],
   "source": []
  }
 ],
 "metadata": {
  "kernelspec": {
   "display_name": "Python 3 (ipykernel)",
   "language": "python",
   "name": "python3"
  },
  "language_info": {
   "codemirror_mode": {
    "name": "ipython",
    "version": 3
   },
   "file_extension": ".py",
   "mimetype": "text/x-python",
   "name": "python",
   "nbconvert_exporter": "python",
   "pygments_lexer": "ipython3",
   "version": "3.8.10"
  }
 },
 "nbformat": 4,
 "nbformat_minor": 4
}
